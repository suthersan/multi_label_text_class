{
 "cells": [
  {
   "cell_type": "code",
   "execution_count": 1,
   "id": "agreed-server",
   "metadata": {},
   "outputs": [],
   "source": [
    "import pandas as pd\n",
    "import spacy\n",
    "import numpy as np\n",
    "import en_core_web_sm\n",
    "import seaborn as sns\n",
    "import matplotlib.pyplot as plt\n",
    "from sklearn.pipeline import Pipeline, FeatureUnion\n",
    "from sklearn.preprocessing import LabelEncoder, FunctionTransformer, OneHotEncoder, StandardScaler\n",
    "from sklearn.feature_extraction.text import TfidfVectorizer,TfidfTransformer\n",
    "from sklearn.metrics import accuracy_score, confusion_matrix, classification_report, precision_score, recall_score\n",
    "from sklearn.model_selection import cross_val_score\n",
    "from sklearn import svm, model_selection\n",
    "from sklearn.compose import ColumnTransformer\n",
    "from spacy.tokens import Token\n",
    "from sklearn.neighbors import KNeighborsClassifier \n",
    "from sklearn.ensemble import RandomForestClassifier\n",
    "from src.funct import read_data as rd\n",
    "from pathlib import Path"
   ]
  },
  {
   "cell_type": "code",
   "execution_count": 2,
   "id": "resistant-thirty",
   "metadata": {},
   "outputs": [],
   "source": [
    "#Load SpaCy model\n",
    "nlp = spacy.load(\"en_core_web_sm\")"
   ]
  },
  {
   "cell_type": "code",
   "execution_count": 3,
   "id": "continuous-extra",
   "metadata": {},
   "outputs": [],
   "source": [
    "#Custom attribute calculated by custom component\n",
    "\n",
    "Token.set_extension('tfidf', default='empty', force=True)\n",
    "\n",
    "from spacy.language import Language\n",
    "@Language.component(\"my_component\")\n",
    "def my_component(doc):\n",
    "           \n",
    "    for i, d in enumerate(doc):\n",
    "        if i<(len(doc)-1):\n",
    "            d._.set('tfidf', d.lemma_+'~'+d.shape_+'~'+d.pos_+'~'+doc[i+1].pos_)\n",
    "        else:\n",
    "            d._.set('tfidf', d.lemma_+'~'+d.shape_+'~'+d.pos_)\n",
    "    return doc"
   ]
  },
  {
   "cell_type": "code",
   "execution_count": 4,
   "id": "pretty-sport",
   "metadata": {},
   "outputs": [
    {
     "data": {
      "text/plain": [
       "<function __main__.my_component(doc)>"
      ]
     },
     "execution_count": 4,
     "metadata": {},
     "output_type": "execute_result"
    }
   ],
   "source": [
    "nlp.add_pipe('my_component', name=\"print_length\", last=True)"
   ]
  },
  {
   "cell_type": "code",
   "execution_count": 5,
   "id": "dense-retirement",
   "metadata": {},
   "outputs": [],
   "source": [
    "#file_path = '../data/raw/bbc-text.csv'\n",
    "file_path = Path('.').absolute().parent / 'data'/'raw'/'bbc-text.csv'\n",
    "train_data = rd.read_data(file_path,nlp)"
   ]
  },
  {
   "cell_type": "code",
   "execution_count": 6,
   "id": "emerging-tackle",
   "metadata": {},
   "outputs": [],
   "source": [
    "# 25:75 Split of the training data\n",
    "Train_X, Test_X, Train_Y, Test_Y = model_selection.train_test_split(train_data['text'],train_data['category'], test_size = 0.25)"
   ]
  },
  {
   "cell_type": "code",
   "execution_count": 7,
   "id": "recreational-shopping",
   "metadata": {},
   "outputs": [],
   "source": [
    "# Label encoder for the \"Classes\"\n",
    "Encoder = LabelEncoder()\n",
    "Encoder.fit(train_data['category'].astype(str))\n",
    "\n",
    "Train_Y_LE = Encoder.transform(Train_Y.astype(str))\n",
    "Test_Y_LE = Encoder.transform(Test_Y.astype(str))"
   ]
  },
  {
   "cell_type": "code",
   "execution_count": 8,
   "id": "metropolitan-astrology",
   "metadata": {},
   "outputs": [],
   "source": [
    "#TfIDF vectorisation of the feature sets to be passed on for the classifier\n",
    "# Fitting on the complete train data and transforming the 25% and 75% data & Test data\n",
    "Tfidf_vect = TfidfVectorizer()\n",
    "Tfidf_vect.fit(train_data['text'].astype(str))\n",
    "\n",
    "Train_X_Tfidf = Tfidf_vect.transform(Train_X.astype(str))\n",
    "Test_X_Tfidf = Tfidf_vect.transform(Test_X.astype(str))"
   ]
  },
  {
   "cell_type": "code",
   "execution_count": 9,
   "id": "ordinary-glory",
   "metadata": {},
   "outputs": [],
   "source": [
    "SVM = svm.SVC(C=1.0, kernel='linear', degree=3, gamma='auto')\n",
    "knn = KNeighborsClassifier(n_neighbors = 2, weights = 'distance')\n",
    "RF = RandomForestClassifier(n_estimators = 10, criterion = 'entropy', random_state = 42)"
   ]
  },
  {
   "cell_type": "code",
   "execution_count": 10,
   "id": "adjusted-mercury",
   "metadata": {},
   "outputs": [],
   "source": [
    "def classifier(model, trained_X, trained_y, testing_X):\n",
    "    model.fit(trained_X, trained_y)\n",
    "    predicted = model.predict(testing_X)\n",
    "    return predicted"
   ]
  },
  {
   "cell_type": "code",
   "execution_count": 11,
   "id": "stretch-acquisition",
   "metadata": {},
   "outputs": [],
   "source": [
    "def evaluate(model, predicted, truth):\n",
    "    precision_metric = precision_score(truth, predicted, average = \"macro\")\n",
    "    print(model, \" precision: \", precision_metric)\n",
    "    recall_metric = recall_score(truth, predicted, average = \"macro\")\n",
    "    print(model, \" recall: \", recall_metric)\n",
    "    accuracy_metric = accuracy_score(truth, predicted)\n",
    "    print(model, \" accuracy: \", accuracy_metric)"
   ]
  },
  {
   "cell_type": "code",
   "execution_count": null,
   "id": "seventh-intro",
   "metadata": {},
   "outputs": [],
   "source": [
    "# 10 fold CV\n",
    "scores = cross_val_score(SVM, Train_X_Tfidf,Train_Y_LE, cv=10,scoring='f1_macro')\n",
    "print(\"SVM Average f1 score\", np.mean(scores))"
   ]
  },
  {
   "cell_type": "code",
   "execution_count": null,
   "id": "threaded-affiliation",
   "metadata": {},
   "outputs": [],
   "source": [
    "predictions_SVM1 = classifier(SVM,Train_X_Tfidf,Train_Y_LE,Test_X_Tfidf)\n",
    "evaluate('SVM', predictions_SVM1, Test_Y_LE)"
   ]
  },
  {
   "cell_type": "code",
   "execution_count": null,
   "id": "polar-essay",
   "metadata": {},
   "outputs": [],
   "source": [
    "predictions_knn = classifier(knn,Train_X_Tfidf,Train_Y_LE,Test_X_Tfidf)\n",
    "evaluate('KNN', predictions_knn, Test_Y_LE)"
   ]
  },
  {
   "cell_type": "code",
   "execution_count": null,
   "id": "fancy-still",
   "metadata": {},
   "outputs": [],
   "source": [
    "rf_predictions = classifier(RF,Train_X_Tfidf,Train_Y_LE,Test_X_Tfidf) \n",
    "evaluate('RF', rf_predictions, Test_Y_LE)"
   ]
  },
  {
   "cell_type": "code",
   "execution_count": null,
   "id": "previous-radius",
   "metadata": {},
   "outputs": [],
   "source": []
  }
 ],
 "metadata": {
  "kernelspec": {
   "display_name": "Python [conda env:kmr] *",
   "language": "python",
   "name": "conda-env-kmr-py"
  },
  "language_info": {
   "codemirror_mode": {
    "name": "ipython",
    "version": 3
   },
   "file_extension": ".py",
   "mimetype": "text/x-python",
   "name": "python",
   "nbconvert_exporter": "python",
   "pygments_lexer": "ipython3",
   "version": "3.7.9"
  }
 },
 "nbformat": 4,
 "nbformat_minor": 5
}
